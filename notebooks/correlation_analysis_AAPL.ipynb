{
 "cells": [
  {
   "cell_type": "code",
   "execution_count": 7,
   "id": "daf0e997-36cc-4daa-b918-48d7386a2675",
   "metadata": {},
   "outputs": [
    {
     "name": "stdout",
     "output_type": "stream",
     "text": [
      "Stock Data:\n",
      "                Open      High       Low     Close  Adj Close     Volume  \\\n",
      "Date                                                                       \n",
      "1980-12-12  0.128348  0.128906  0.128348  0.128348   0.098943  469033600   \n",
      "1980-12-15  0.122210  0.122210  0.121652  0.121652   0.093781  175884800   \n",
      "1980-12-16  0.113281  0.113281  0.112723  0.112723   0.086898  105728000   \n",
      "1980-12-17  0.115513  0.116071  0.115513  0.115513   0.089049   86441600   \n",
      "1980-12-18  0.118862  0.119420  0.118862  0.118862   0.091630   73449600   \n",
      "\n",
      "            Dividends  Stock Splits  \n",
      "Date                                 \n",
      "1980-12-12        0.0           0.0  \n",
      "1980-12-15        0.0           0.0  \n",
      "1980-12-16        0.0           0.0  \n",
      "1980-12-17        0.0           0.0  \n",
      "1980-12-18        0.0           0.0  \n",
      "\n",
      "News Data:\n",
      "                           Unnamed: 0  \\\n",
      "date                                    \n",
      "2020-06-05 10:30:54-04:00           0   \n",
      "2020-06-03 10:45:20-04:00           1   \n",
      "2020-05-26 04:30:07-04:00           2   \n",
      "2020-05-22 12:45:06-04:00           3   \n",
      "2020-05-22 11:38:59-04:00           4   \n",
      "\n",
      "                                                                    headline  \\\n",
      "date                                                                           \n",
      "2020-06-05 10:30:54-04:00            Stocks That Hit 52-Week Highs On Friday   \n",
      "2020-06-03 10:45:20-04:00         Stocks That Hit 52-Week Highs On Wednesday   \n",
      "2020-05-26 04:30:07-04:00                      71 Biggest Movers From Friday   \n",
      "2020-05-22 12:45:06-04:00       46 Stocks Moving In Friday's Mid-Day Session   \n",
      "2020-05-22 11:38:59-04:00  B of A Securities Maintains Neutral on Agilent...   \n",
      "\n",
      "                                                                         url  \\\n",
      "date                                                                           \n",
      "2020-06-05 10:30:54-04:00  https://www.benzinga.com/news/20/06/16190091/s...   \n",
      "2020-06-03 10:45:20-04:00  https://www.benzinga.com/news/20/06/16170189/s...   \n",
      "2020-05-26 04:30:07-04:00  https://www.benzinga.com/news/20/05/16103463/7...   \n",
      "2020-05-22 12:45:06-04:00  https://www.benzinga.com/news/20/05/16095921/4...   \n",
      "2020-05-22 11:38:59-04:00  https://www.benzinga.com/news/20/05/16095304/b...   \n",
      "\n",
      "                                   publisher stock  \n",
      "date                                                \n",
      "2020-06-05 10:30:54-04:00  Benzinga Insights     A  \n",
      "2020-06-03 10:45:20-04:00  Benzinga Insights     A  \n",
      "2020-05-26 04:30:07-04:00         Lisa Levin     A  \n",
      "2020-05-22 12:45:06-04:00         Lisa Levin     A  \n",
      "2020-05-22 11:38:59-04:00         Vick Meyer     A  \n"
     ]
    }
   ],
   "source": [
    "import pandas as pd\n",
    "from textblob import TextBlob\n",
    "from scipy.stats import pearsonr\n",
    "\n",
    "def load_and_prepare_data(stock_file, news_file):\n",
    "    stock_data = pd.read_csv(stock_file, parse_dates=['Date'])\n",
    "    news_data = pd.read_csv(news_file, parse_dates=['date'])\n",
    "\n",
    "    stock_data.set_index('Date', inplace=True)\n",
    "    news_data.set_index('date', inplace=True)\n",
    "\n",
    "    return stock_data, news_data\n",
    "\n",
    "stock_file = 'C:/Users/nejat/AIM Projects/week1 data/yfinance_data/AAPL_historical_data.csv'\n",
    "news_file = 'C:/Users/nejat/AIM Projects/week1 data/raw_analyst_ratings/raw_analyst_ratings.csv'\n",
    "stock_data, news_data = load_and_prepare_data(stock_file, news_file)\n",
    "\n",
    "print(\"Stock Data:\")\n",
    "print(stock_data.head())  \n",
    "\n",
    "print(\"\\nNews Data:\")\n",
    "print(news_data.head()) \n"
   ]
  },
  {
   "cell_type": "code",
   "execution_count": 8,
   "id": "692c5edf-766f-46a2-9419-ad93f3ec7b07",
   "metadata": {},
   "outputs": [
    {
     "name": "stdout",
     "output_type": "stream",
     "text": [
      "\n",
      "News Data with Sentiment (Sample):\n",
      "                                                                    headline  \\\n",
      "date                                                                           \n",
      "2019-10-25 00:00:00        Tata Motors shares are trading higher after th...   \n",
      "2017-04-18 00:00:00        Motorola Solutions Files Patent Infringement C...   \n",
      "2011-05-13 00:00:00        Top day traders Stocks and nalyst Upgrades & D...   \n",
      "2020-05-08 07:52:01-04:00  Cramer Shares His Thoughts On DraftKings, Well...   \n",
      "2012-07-11 00:00:00        UPDATE: Stifel Nicolaus Downgrades hhgregg to ...   \n",
      "\n",
      "                           Sentiment  \n",
      "date                                  \n",
      "2019-10-25 00:00:00             0.25  \n",
      "2017-04-18 00:00:00             0.00  \n",
      "2011-05-13 00:00:00             0.50  \n",
      "2020-05-08 07:52:01-04:00       0.50  \n",
      "2012-07-11 00:00:00             0.00  \n"
     ]
    }
   ],
   "source": [
    "def perform_sentiment_analysis(news_data, sample_size=100):\n",
    "    def get_sentiment(text):\n",
    "        analysis = TextBlob(text)\n",
    "        return analysis.sentiment.polarity  \n",
    "\n",
    "    if news_data is None or news_data.empty:\n",
    "        print(\"Error: news_data is either None or empty.\")\n",
    "        return None\n",
    "    \n",
    "    sample_size = min(sample_size, len(news_data))\n",
    "    news_data_sample = news_data.sample(sample_size)\n",
    "    \n",
    "    news_data_sample['Sentiment'] = news_data_sample['headline'].apply(get_sentiment)\n",
    "    \n",
    "    print(\"\\nNews Data with Sentiment (Sample):\")\n",
    "    print(news_data_sample[['headline', 'Sentiment']].head())\n",
    "    \n",
    "    return news_data_sample\n",
    "    \n",
    "news_data_sample = perform_sentiment_analysis(news_data, sample_size=100)"
   ]
  },
  {
   "cell_type": "code",
   "execution_count": 9,
   "id": "0dee81ea-faaa-40b2-9f96-dc105774095d",
   "metadata": {},
   "outputs": [
    {
     "name": "stdout",
     "output_type": "stream",
     "text": [
      "\n",
      "Stock Data with Daily Returns:\n",
      "                Open      High       Low     Close  Adj Close     Volume  \\\n",
      "Date                                                                       \n",
      "1980-12-12  0.128348  0.128906  0.128348  0.128348   0.098943  469033600   \n",
      "1980-12-15  0.122210  0.122210  0.121652  0.121652   0.093781  175884800   \n",
      "1980-12-16  0.113281  0.113281  0.112723  0.112723   0.086898  105728000   \n",
      "1980-12-17  0.115513  0.116071  0.115513  0.115513   0.089049   86441600   \n",
      "1980-12-18  0.118862  0.119420  0.118862  0.118862   0.091630   73449600   \n",
      "\n",
      "            Dividends  Stock Splits  Daily_Returns  \n",
      "Date                                                \n",
      "1980-12-12        0.0           0.0            NaN  \n",
      "1980-12-15        0.0           0.0      -0.052171  \n",
      "1980-12-16        0.0           0.0      -0.073398  \n",
      "1980-12-17        0.0           0.0       0.024751  \n",
      "1980-12-18        0.0           0.0       0.028992  \n"
     ]
    }
   ],
   "source": [
    "def calculate_daily_returns(stock_data):\n",
    "    if stock_data is None:\n",
    "        raise ValueError(\"stock_data is None. Please check the data loading function.\")\n",
    "    \n",
    "    stock_data['Daily_Returns'] = stock_data['Close'].pct_change()\n",
    "    print(\"\\nStock Data with Daily Returns:\")\n",
    "    print(stock_data.head())\n",
    "    \n",
    "    return stock_data\n",
    "\n",
    "stock_data = calculate_daily_returns(stock_data)\n"
   ]
  },
  {
   "cell_type": "code",
   "execution_count": 10,
   "id": "d5d653af-3391-433a-a352-bb7a4ce1afae",
   "metadata": {},
   "outputs": [
    {
     "name": "stdout",
     "output_type": "stream",
     "text": [
      "\n",
      "Average Daily Sentiment Scores:\n",
      "                  Date  Avg_Sentiment\n",
      "0  2010-08-04 00:00:00            0.0\n",
      "1  2010-10-26 00:00:00            0.0\n",
      "2  2010-11-30 00:00:00            0.5\n",
      "3  2010-12-18 00:00:00            0.0\n",
      "4  2011-01-21 00:00:00            0.0\n"
     ]
    }
   ],
   "source": [
    "def aggregate_daily_sentiment(news_data_sample):\n",
    "    if 'Sentiment' not in news_data_sample.columns:\n",
    "        print(\"Error: 'Sentiment' column is missing.\")\n",
    "        return None\n",
    "\n",
    "    avg_daily_sentiment = news_data_sample.groupby(news_data_sample.index)['Sentiment'].mean().reset_index()\n",
    "    avg_daily_sentiment.columns = ['Date', 'Avg_Sentiment']\n",
    "    print(\"\\nAverage Daily Sentiment Scores:\")\n",
    "    print(avg_daily_sentiment.head())\n",
    "    \n",
    "    return avg_daily_sentiment\n",
    "    \n",
    "avg_daily_sentiment = aggregate_daily_sentiment(news_data_sample)"
   ]
  },
  {
   "cell_type": "code",
   "execution_count": 11,
   "id": "8f456a31-2716-42f1-9254-fd82f3b7a826",
   "metadata": {},
   "outputs": [
    {
     "name": "stdout",
     "output_type": "stream",
     "text": [
      "\n",
      "Merged Data:\n",
      "        Date  Daily_Returns  Avg_Sentiment\n",
      "0 2010-08-04       0.004009           0.00\n",
      "1 2010-10-26      -0.002558           0.00\n",
      "2 2010-11-30      -0.018052           0.50\n",
      "3 2011-01-21      -0.017915           0.00\n",
      "4 2011-03-31      -0.000344          -0.15\n"
     ]
    }
   ],
   "source": [
    "def merge_stock_sentiment(stock_data, avg_daily_sentiment):\n",
    "    stock_data = stock_data.reset_index().rename(columns={'Date': 'Date'})\n",
    "    avg_daily_sentiment = avg_daily_sentiment.rename(columns={'index': 'Date', 'Sentiment': 'Avg_Sentiment'})\n",
    "\n",
    "    stock_data['Date'] = pd.to_datetime(stock_data['Date'], errors='coerce')\n",
    "    avg_daily_sentiment['Date'] = pd.to_datetime(avg_daily_sentiment['Date'], errors='coerce')\n",
    "\n",
    "    stock_data.dropna(subset=['Date'], inplace=True)\n",
    "    avg_daily_sentiment.dropna(subset=['Date'], inplace=True)\n",
    "\n",
    "    merged_data = pd.merge(stock_data[['Date', 'Daily_Returns']], avg_daily_sentiment[['Date', 'Avg_Sentiment']], on='Date', how='inner')\n",
    "    print(\"\\nMerged Data:\")\n",
    "    print(merged_data.head())\n",
    "    \n",
    "    return merged_data \n",
    "\n",
    "merged_data = merge_stock_sentiment(stock_data, avg_daily_sentiment)\n"
   ]
  },
  {
   "cell_type": "code",
   "execution_count": 12,
   "id": "ae4772b7-cb6c-4356-92e3-3d76cbec60f4",
   "metadata": {},
   "outputs": [
    {
     "name": "stdout",
     "output_type": "stream",
     "text": [
      "\n",
      "Correlation Analysis:\n",
      "Pearson Correlation Coefficient: 0.0752\n",
      "P-value: 0.4712\n"
     ]
    },
    {
     "data": {
      "text/plain": [
       "(0.07521394492755487, 0.4712229167360318)"
      ]
     },
     "execution_count": 12,
     "metadata": {},
     "output_type": "execute_result"
    }
   ],
   "source": [
    "def correlation_analysis(merged_data):\n",
    "    if 'Daily_Returns' not in merged_data.columns or 'Avg_Sentiment' not in merged_data.columns:\n",
    "        raise ValueError(\"Merged data is missing required columns.\")\n",
    "    \n",
    "    correlation, p_value = pearsonr(merged_data['Daily_Returns'].dropna(), merged_data['Avg_Sentiment'].dropna())\n",
    "    \n",
    "    print(\"\\nCorrelation Analysis:\")\n",
    "    print(f\"Pearson Correlation Coefficient: {correlation:.4f}\")\n",
    "    print(f\"P-value: {p_value:.4f}\")\n",
    "    \n",
    "    return correlation, p_value\n",
    "\n",
    "correlation_analysis(merged_data)"
   ]
  },
  {
   "cell_type": "code",
   "execution_count": null,
   "id": "e0bef2ac-c450-44c0-8f51-032eb827656d",
   "metadata": {},
   "outputs": [],
   "source": []
  }
 ],
 "metadata": {
  "kernelspec": {
   "display_name": "Python 3 (ipykernel)",
   "language": "python",
   "name": "python3"
  },
  "language_info": {
   "codemirror_mode": {
    "name": "ipython",
    "version": 3
   },
   "file_extension": ".py",
   "mimetype": "text/x-python",
   "name": "python",
   "nbconvert_exporter": "python",
   "pygments_lexer": "ipython3",
   "version": "3.11.7"
  }
 },
 "nbformat": 4,
 "nbformat_minor": 5
}
