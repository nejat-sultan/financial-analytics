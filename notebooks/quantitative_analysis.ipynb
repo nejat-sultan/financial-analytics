{
 "cells": [
  {
   "cell_type": "code",
   "execution_count": 22,
   "id": "076740ff-7079-42cb-98d4-bc4ee505c09a",
   "metadata": {},
   "outputs": [
    {
     "name": "stdout",
     "output_type": "stream",
     "text": [
      "Initial data:\n",
      "                Open      High       Low     Close  Adj Close     Volume  \\\n",
      "Date                                                                       \n",
      "1980-12-12  0.128348  0.128906  0.128348  0.128348   0.098943  469033600   \n",
      "1980-12-15  0.122210  0.122210  0.121652  0.121652   0.093781  175884800   \n",
      "1980-12-16  0.113281  0.113281  0.112723  0.112723   0.086898  105728000   \n",
      "1980-12-17  0.115513  0.116071  0.115513  0.115513   0.089049   86441600   \n",
      "1980-12-18  0.118862  0.119420  0.118862  0.118862   0.091630   73449600   \n",
      "\n",
      "            Dividends  Stock Splits  \n",
      "Date                                 \n",
      "1980-12-12        0.0           0.0  \n",
      "1980-12-15        0.0           0.0  \n",
      "1980-12-16        0.0           0.0  \n",
      "1980-12-17        0.0           0.0  \n",
      "1980-12-18        0.0           0.0  \n"
     ]
    }
   ],
   "source": [
    "import pandas as pd # type: ignore\n",
    "import talib # type: ignore\n",
    "\n",
    "def load_data(filepath):\n",
    "    data = pd.read_csv(filepath, parse_dates=['Date'], index_col='Date')\n",
    "    return data\n",
    "\n",
    "filepath = 'C:/Users/nejat/AIM Projects/week1 data/yfinance_data/AAPL_historical_data.csv'\n",
    "data = load_data(filepath)\n",
    "\n",
    "print(\"Initial data:\")\n",
    "print(data.head())"
   ]
  },
  {
   "cell_type": "code",
   "execution_count": 25,
   "id": "64c4bf96-0759-4b56-8c60-b3bda2004908",
   "metadata": {},
   "outputs": [
    {
     "name": "stdout",
     "output_type": "stream",
     "text": [
      "Updated data:\n",
      "                Open      High       Low     Close  Adj Close     Volume  \\\n",
      "Date                                                                       \n",
      "1980-12-12  0.128348  0.128906  0.128348  0.128348   0.098943  469033600   \n",
      "1980-12-15  0.122210  0.122210  0.121652  0.121652   0.093781  175884800   \n",
      "1980-12-16  0.113281  0.113281  0.112723  0.112723   0.086898  105728000   \n",
      "1980-12-17  0.115513  0.116071  0.115513  0.115513   0.089049   86441600   \n",
      "1980-12-18  0.118862  0.119420  0.118862  0.118862   0.091630   73449600   \n",
      "\n",
      "            Dividends  Stock Splits  SMA_20  SMA_50  RSI  MACD  MACD_Signal  \\\n",
      "Date                                                                          \n",
      "1980-12-12        0.0           0.0     NaN     NaN  NaN   NaN          NaN   \n",
      "1980-12-15        0.0           0.0     NaN     NaN  NaN   NaN          NaN   \n",
      "1980-12-16        0.0           0.0     NaN     NaN  NaN   NaN          NaN   \n",
      "1980-12-17        0.0           0.0     NaN     NaN  NaN   NaN          NaN   \n",
      "1980-12-18        0.0           0.0     NaN     NaN  NaN   NaN          NaN   \n",
      "\n",
      "            MACD_Hist  \n",
      "Date                   \n",
      "1980-12-12        NaN  \n",
      "1980-12-15        NaN  \n",
      "1980-12-16        NaN  \n",
      "1980-12-17        NaN  \n",
      "1980-12-18        NaN  \n"
     ]
    }
   ],
   "source": [
    "def calculate_moving_averages(data, short_period=20, long_period=50):\n",
    "    data['SMA_' + str(short_period)] = talib.SMA(data['Close'], timeperiod=short_period)\n",
    "    data['SMA_' + str(long_period)] = talib.SMA(data['Close'], timeperiod=long_period)\n",
    "    return data\n",
    "\n",
    "def calculate_rsi(data, period=14):\n",
    "    data['RSI'] = talib.RSI(data['Close'], timeperiod=period)\n",
    "    return data\n",
    "\n",
    "def calculate_macd(data, fastperiod=12, slowperiod=26, signalperiod=9):\n",
    "    macd, macd_signal, macd_hist = talib.MACD(data['Close'], fastperiod=fastperiod, slowperiod=slowperiod, signalperiod=signalperiod)\n",
    "    data['MACD'] = macd\n",
    "    data['MACD_Signal'] = macd_signal\n",
    "    data['MACD_Hist'] = macd_hist\n",
    "    return data\n",
    "\n",
    "data = calculate_moving_averages(data)\n",
    "data = calculate_rsi(data)\n",
    "data = calculate_macd(data)\n",
    "\n",
    "print(\"Updated data:\")\n",
    "print(data.head())"
   ]
  },
  {
   "cell_type": "code",
   "execution_count": null,
   "id": "d47da923-1fb1-4180-a00e-c25d603318d7",
   "metadata": {},
   "outputs": [],
   "source": []
  }
 ],
 "metadata": {
  "kernelspec": {
   "display_name": "Python 3 (ipykernel)",
   "language": "python",
   "name": "python3"
  },
  "language_info": {
   "codemirror_mode": {
    "name": "ipython",
    "version": 3
   },
   "file_extension": ".py",
   "mimetype": "text/x-python",
   "name": "python",
   "nbconvert_exporter": "python",
   "pygments_lexer": "ipython3",
   "version": "3.11.7"
  }
 },
 "nbformat": 4,
 "nbformat_minor": 5
}
