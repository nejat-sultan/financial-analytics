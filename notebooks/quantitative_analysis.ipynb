{
 "cells": [
  {
   "cell_type": "code",
   "execution_count": 2,
   "id": "076740ff-7079-42cb-98d4-bc4ee505c09a",
   "metadata": {},
   "outputs": [
    {
     "name": "stdout",
     "output_type": "stream",
     "text": [
      "Initial data:\n",
      "                Open      High       Low     Close  Adj Close     Volume  \\\n",
      "Date                                                                       \n",
      "1980-12-12  0.128348  0.128906  0.128348  0.128348   0.098943  469033600   \n",
      "1980-12-15  0.122210  0.122210  0.121652  0.121652   0.093781  175884800   \n",
      "1980-12-16  0.113281  0.113281  0.112723  0.112723   0.086898  105728000   \n",
      "1980-12-17  0.115513  0.116071  0.115513  0.115513   0.089049   86441600   \n",
      "1980-12-18  0.118862  0.119420  0.118862  0.118862   0.091630   73449600   \n",
      "\n",
      "            Dividends  Stock Splits  \n",
      "Date                                 \n",
      "1980-12-12        0.0           0.0  \n",
      "1980-12-15        0.0           0.0  \n",
      "1980-12-16        0.0           0.0  \n",
      "1980-12-17        0.0           0.0  \n",
      "1980-12-18        0.0           0.0  \n"
     ]
    }
   ],
   "source": [
    "import pandas as pd # type: ignore\n",
    "import talib # type: ignore\n",
    "import matplotlib.pyplot as plt # type: ignore\n",
    "import seaborn as sns # type: ignore\n",
    "\n",
    "def load_data(filepath):\n",
    "    data = pd.read_csv(filepath, parse_dates=['Date'], index_col='Date')\n",
    "    return data\n",
    "\n",
    "filepath = 'C:/Users/nejat/AIM Projects/week1 data/yfinance_data/AAPL_historical_data.csv'\n",
    "data = load_data(filepath)\n",
    "\n",
    "print(\"Initial data:\")\n",
    "print(data.head())"
   ]
  },
  {
   "cell_type": "code",
   "execution_count": 3,
   "id": "64c4bf96-0759-4b56-8c60-b3bda2004908",
   "metadata": {},
   "outputs": [
    {
     "name": "stdout",
     "output_type": "stream",
     "text": [
      "Updated data:\n",
      "                Open      High       Low     Close  Adj Close    Volume  \\\n",
      "Date                                                                      \n",
      "1981-02-24  0.107143  0.107143  0.106027  0.106027   0.081736  16979200   \n",
      "1981-02-25  0.112723  0.113281  0.112723  0.112723   0.086898  19488000   \n",
      "1981-02-26  0.114397  0.114955  0.114397  0.114397   0.088188  10841600   \n",
      "1981-02-27  0.118304  0.119420  0.118304  0.118304   0.091200  14761600   \n",
      "1981-03-02  0.118862  0.119420  0.118862  0.118862   0.091630  11760000   \n",
      "\n",
      "            Dividends  Stock Splits    SMA_20    SMA_50        RSI      MACD  \\\n",
      "Date                                                                           \n",
      "1981-02-24        0.0           0.0  0.121763  0.132578  33.119800 -0.007079   \n",
      "1981-02-25        0.0           0.0  0.120257  0.132266  41.038378 -0.006813   \n",
      "1981-02-26        0.0           0.0  0.119057  0.132120  42.859818 -0.006393   \n",
      "1981-02-27        0.0           0.0  0.118304  0.132232  46.976856 -0.005680   \n",
      "1981-03-02        0.0           0.0  0.117941  0.132299  47.558023 -0.005012   \n",
      "\n",
      "            MACD_Signal  MACD_Hist  \n",
      "Date                                \n",
      "1981-02-24    -0.005719  -0.001360  \n",
      "1981-02-25    -0.005938  -0.000875  \n",
      "1981-02-26    -0.006029  -0.000364  \n",
      "1981-02-27    -0.005959   0.000279  \n",
      "1981-03-02    -0.005770   0.000758  \n"
     ]
    }
   ],
   "source": [
    "def calculate_moving_averages(data, short_period=20, long_period=50):\n",
    "    data['SMA_' + str(short_period)] = talib.SMA(data['Close'], timeperiod=short_period)\n",
    "    data['SMA_' + str(long_period)] = talib.SMA(data['Close'], timeperiod=long_period)\n",
    "    return data\n",
    "\n",
    "def calculate_rsi(data, period=14):\n",
    "    data['RSI'] = talib.RSI(data['Close'], timeperiod=period)\n",
    "    return data\n",
    "\n",
    "def calculate_macd(data, fastperiod=12, slowperiod=26, signalperiod=9):\n",
    "    macd, macd_signal, macd_hist = talib.MACD(data['Close'], fastperiod=fastperiod, slowperiod=slowperiod, signalperiod=signalperiod)\n",
    "    data['MACD'] = macd\n",
    "    data['MACD_Signal'] = macd_signal\n",
    "    data['MACD_Hist'] = macd_hist\n",
    "    return data\n",
    "\n",
    "data = calculate_moving_averages(data)\n",
    "data = calculate_rsi(data)\n",
    "data = calculate_macd(data)\n",
    "\n",
    "data.dropna(inplace=True)\n",
    "\n",
    "print(\"Updated data:\")\n",
    "print(data.head())"
   ]
  },
  {
   "cell_type": "code",
   "execution_count": null,
   "id": "84ad2b4e-630b-4623-94c3-435fa2c81fab",
   "metadata": {},
   "outputs": [],
   "source": []
  }
 ],
 "metadata": {
  "kernelspec": {
   "display_name": "Python 3 (ipykernel)",
   "language": "python",
   "name": "python3"
  },
  "language_info": {
   "codemirror_mode": {
    "name": "ipython",
    "version": 3
   },
   "file_extension": ".py",
   "mimetype": "text/x-python",
   "name": "python",
   "nbconvert_exporter": "python",
   "pygments_lexer": "ipython3",
   "version": "3.11.7"
  }
 },
 "nbformat": 4,
 "nbformat_minor": 5
}
